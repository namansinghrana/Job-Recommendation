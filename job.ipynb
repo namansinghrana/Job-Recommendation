{
 "cells": [
  {
   "cell_type": "code",
   "execution_count": 19,
   "id": "30bdad84-a3e9-438e-9efa-af2fdec83258",
   "metadata": {},
   "outputs": [],
   "source": [
    "import numpy as np\n",
    "import pandas as pd"
   ]
  },
  {
   "cell_type": "code",
   "execution_count": 20,
   "id": "b2e35969-4617-492f-93cb-e69c3480b0b1",
   "metadata": {},
   "outputs": [],
   "source": [
    "df = pd.read_csv('linkedin_job_postings.csv')"
   ]
  },
  {
   "cell_type": "code",
   "execution_count": 21,
   "id": "befa695f-f74c-48dc-82cd-a45fefdaadb0",
   "metadata": {},
   "outputs": [
    {
     "name": "stdout",
     "output_type": "stream",
     "text": [
      "<class 'pandas.core.frame.DataFrame'>\n",
      "RangeIndex: 1348454 entries, 0 to 1348453\n",
      "Data columns (total 14 columns):\n",
      " #   Column               Non-Null Count    Dtype \n",
      "---  ------               --------------    ----- \n",
      " 0   job_link             1348454 non-null  object\n",
      " 1   last_processed_time  1348454 non-null  object\n",
      " 2   got_summary          1348454 non-null  object\n",
      " 3   got_ner              1348454 non-null  object\n",
      " 4   is_being_worked      1348454 non-null  object\n",
      " 5   job_title            1348454 non-null  object\n",
      " 6   company              1348443 non-null  object\n",
      " 7   job_location         1348435 non-null  object\n",
      " 8   first_seen           1348454 non-null  object\n",
      " 9   search_city          1348454 non-null  object\n",
      " 10  search_country       1348454 non-null  object\n",
      " 11  search_position      1348454 non-null  object\n",
      " 12  job_level            1348454 non-null  object\n",
      " 13  job_type             1348454 non-null  object\n",
      "dtypes: object(14)\n",
      "memory usage: 144.0+ MB\n"
     ]
    }
   ],
   "source": [
    "df.info()"
   ]
  },
  {
   "cell_type": "code",
   "execution_count": 22,
   "id": "af3df220-5b4d-4d02-9cec-b9ecbab146df",
   "metadata": {},
   "outputs": [
    {
     "data": {
      "text/html": [
       "<div>\n",
       "<style scoped>\n",
       "    .dataframe tbody tr th:only-of-type {\n",
       "        vertical-align: middle;\n",
       "    }\n",
       "\n",
       "    .dataframe tbody tr th {\n",
       "        vertical-align: top;\n",
       "    }\n",
       "\n",
       "    .dataframe thead th {\n",
       "        text-align: right;\n",
       "    }\n",
       "</style>\n",
       "<table border=\"1\" class=\"dataframe\">\n",
       "  <thead>\n",
       "    <tr style=\"text-align: right;\">\n",
       "      <th></th>\n",
       "      <th>job_title</th>\n",
       "      <th>company</th>\n",
       "      <th>job_link</th>\n",
       "    </tr>\n",
       "  </thead>\n",
       "  <tbody>\n",
       "    <tr>\n",
       "      <th>0</th>\n",
       "      <td>Account Executive - Dispensing (NorCal/Norther...</td>\n",
       "      <td>BD</td>\n",
       "      <td>https://www.linkedin.com/jobs/view/account-exe...</td>\n",
       "    </tr>\n",
       "    <tr>\n",
       "      <th>1</th>\n",
       "      <td>Registered Nurse - RN Care Manager</td>\n",
       "      <td>Trinity Health MI</td>\n",
       "      <td>https://www.linkedin.com/jobs/view/registered-...</td>\n",
       "    </tr>\n",
       "    <tr>\n",
       "      <th>2</th>\n",
       "      <td>RESTAURANT SUPERVISOR - THE FORKLIFT</td>\n",
       "      <td>Wasatch Adaptive Sports</td>\n",
       "      <td>https://www.linkedin.com/jobs/view/restaurant-...</td>\n",
       "    </tr>\n",
       "  </tbody>\n",
       "</table>\n",
       "</div>"
      ],
      "text/plain": [
       "                                           job_title                  company  \\\n",
       "0  Account Executive - Dispensing (NorCal/Norther...                       BD   \n",
       "1                 Registered Nurse - RN Care Manager        Trinity Health MI   \n",
       "2               RESTAURANT SUPERVISOR - THE FORKLIFT  Wasatch Adaptive Sports   \n",
       "\n",
       "                                            job_link  \n",
       "0  https://www.linkedin.com/jobs/view/account-exe...  \n",
       "1  https://www.linkedin.com/jobs/view/registered-...  \n",
       "2  https://www.linkedin.com/jobs/view/restaurant-...  "
      ]
     },
     "execution_count": 22,
     "metadata": {},
     "output_type": "execute_result"
    }
   ],
   "source": [
    "df = df[['job_title','company','job_link']]\n",
    "df.head(3)"
   ]
  },
  {
   "cell_type": "code",
   "execution_count": 23,
   "id": "6e2a8433-85c3-4afc-a701-618163dc7357",
   "metadata": {},
   "outputs": [
    {
     "data": {
      "text/plain": [
       "(1000, 3)"
      ]
     },
     "execution_count": 23,
     "metadata": {},
     "output_type": "execute_result"
    }
   ],
   "source": [
    "df = df.sample(n=1000,random_state=42)\n",
    "df.shape"
   ]
  },
  {
   "cell_type": "code",
   "execution_count": 24,
   "id": "5fbfa105-3766-4d4c-b843-4a42675ddf1d",
   "metadata": {},
   "outputs": [],
   "source": [
    "import nltk\n",
    "import re\n",
    "from nltk.stem.porter import PorterStemmer\n",
    "from nltk.corpus import stopwords"
   ]
  },
  {
   "cell_type": "code",
   "execution_count": 25,
   "id": "7dd86cbe-a89d-4d0e-81fc-1f66bd44011c",
   "metadata": {},
   "outputs": [],
   "source": [
    "ps = PorterStemmer()"
   ]
  },
  {
   "cell_type": "code",
   "execution_count": 26,
   "id": "f22d08a3-7dbb-412d-859d-44c7446b018f",
   "metadata": {},
   "outputs": [],
   "source": [
    "def cleaning(txt):\n",
    "    cleaned_txt = re.sub(r'[^a-zA-Z0-9\\s]','',txt)\n",
    "    tokens = nltk.word_tokenize(cleaned_txt.lower())\n",
    "    stemming = [ ps.stem(word)\n",
    "        for word in tokens if word not in stopwords.words('english')]\n",
    "    \n",
    "    return \" \".join(stemming) "
   ]
  },
  {
   "cell_type": "code",
   "execution_count": 27,
   "id": "46078582-a117-417d-9d9a-49e06748c8b5",
   "metadata": {},
   "outputs": [
    {
     "data": {
      "text/plain": [
       "'good java develop sir'"
      ]
     },
     "execution_count": 27,
     "metadata": {},
     "output_type": "execute_result"
    }
   ],
   "source": [
    "cleaning('THis is a good Java Developer, \\nSir')"
   ]
  },
  {
   "cell_type": "code",
   "execution_count": 28,
   "id": "17ba0272-4745-4fd0-8edb-a166b8d35e56",
   "metadata": {},
   "outputs": [],
   "source": [
    "df['job_title'] = df['job_title'].astype(str).apply(lambda x:cleaning(x)) \n",
    "df['job_link'] = df['job_link'].astype(str).apply(lambda x:cleaning(x))"
   ]
  },
  {
   "cell_type": "code",
   "execution_count": 29,
   "id": "c2d00dc7-9872-47ff-a4ea-5e96c317db3c",
   "metadata": {},
   "outputs": [
    {
     "data": {
      "text/html": [
       "<div>\n",
       "<style scoped>\n",
       "    .dataframe tbody tr th:only-of-type {\n",
       "        vertical-align: middle;\n",
       "    }\n",
       "\n",
       "    .dataframe tbody tr th {\n",
       "        vertical-align: top;\n",
       "    }\n",
       "\n",
       "    .dataframe thead th {\n",
       "        text-align: right;\n",
       "    }\n",
       "</style>\n",
       "<table border=\"1\" class=\"dataframe\">\n",
       "  <thead>\n",
       "    <tr style=\"text-align: right;\">\n",
       "      <th></th>\n",
       "      <th>job_title</th>\n",
       "      <th>company</th>\n",
       "      <th>job_link</th>\n",
       "      <th>new_col</th>\n",
       "    </tr>\n",
       "  </thead>\n",
       "  <tbody>\n",
       "    <tr>\n",
       "      <th>766615</th>\n",
       "      <td>regist nurs rn aveanna</td>\n",
       "      <td>Health eCareers</td>\n",
       "      <td>httpswwwlinkedincomjobsviewregisterednursernat...</td>\n",
       "      <td>regist nurs rn aveanna Health eCareers httpsww...</td>\n",
       "    </tr>\n",
       "    <tr>\n",
       "      <th>158813</th>\n",
       "      <td>locum physician obstetr gynecolog</td>\n",
       "      <td>Weatherby Healthcare</td>\n",
       "      <td>httpswwwlinkedincomjobsviewlocumphysicianobste...</td>\n",
       "      <td>locum physician obstetr gynecolog Weatherby He...</td>\n",
       "    </tr>\n",
       "    <tr>\n",
       "      <th>697436</th>\n",
       "      <td>technolog sale recruit busi develop manag</td>\n",
       "      <td>Proven Recruiting</td>\n",
       "      <td>httpswwwlinkedincomjobsviewtechnologysalesrecr...</td>\n",
       "      <td>technolog sale recruit busi develop manag Prov...</td>\n",
       "    </tr>\n",
       "  </tbody>\n",
       "</table>\n",
       "</div>"
      ],
      "text/plain": [
       "                                        job_title               company  \\\n",
       "766615                     regist nurs rn aveanna       Health eCareers   \n",
       "158813          locum physician obstetr gynecolog  Weatherby Healthcare   \n",
       "697436  technolog sale recruit busi develop manag     Proven Recruiting   \n",
       "\n",
       "                                                 job_link  \\\n",
       "766615  httpswwwlinkedincomjobsviewregisterednursernat...   \n",
       "158813  httpswwwlinkedincomjobsviewlocumphysicianobste...   \n",
       "697436  httpswwwlinkedincomjobsviewtechnologysalesrecr...   \n",
       "\n",
       "                                                  new_col  \n",
       "766615  regist nurs rn aveanna Health eCareers httpsww...  \n",
       "158813  locum physician obstetr gynecolog Weatherby He...  \n",
       "697436  technolog sale recruit busi develop manag Prov...  "
      ]
     },
     "execution_count": 29,
     "metadata": {},
     "output_type": "execute_result"
    }
   ],
   "source": [
    "df['new_col'] = df['job_title'] +\" \"+ df[\"company\"]+ \" \" + df['job_link']\n",
    "df.head(3)"
   ]
  },
  {
   "cell_type": "code",
   "execution_count": 30,
   "id": "04bb5702-d8ef-4d7a-b68c-37c1a102604c",
   "metadata": {},
   "outputs": [],
   "source": [
    "from sklearn.feature_extraction.text import TfidfVectorizer\n",
    "from sklearn.metrics.pairwise import cosine_similarity"
   ]
  },
  {
   "cell_type": "code",
   "execution_count": 31,
   "id": "3657fb90-2fe5-4d9c-b887-a1b3d8927c9d",
   "metadata": {},
   "outputs": [],
   "source": [
    "tfif = TfidfVectorizer()\n",
    "matrix = tfif.fit_transform(df['new_col'])\n",
    "similarity = cosine_similarity(matrix)"
   ]
  },
  {
   "cell_type": "code",
   "execution_count": 32,
   "id": "a276d256-cef3-46d8-b23d-bf8c1d04579d",
   "metadata": {},
   "outputs": [
    {
     "data": {
      "text/plain": [
       "array([[1.        , 0.        , 0.        , ..., 0.        , 0.        ,\n",
       "        0.        ],\n",
       "       [0.        , 1.        , 0.        , ..., 0.        , 0.        ,\n",
       "        0.        ],\n",
       "       [0.        , 0.        , 1.        , ..., 0.        , 0.02358749,\n",
       "        0.        ],\n",
       "       ...,\n",
       "       [0.        , 0.        , 0.        , ..., 1.        , 0.        ,\n",
       "        0.        ],\n",
       "       [0.        , 0.        , 0.02358749, ..., 0.        , 1.        ,\n",
       "        0.        ],\n",
       "       [0.        , 0.        , 0.        , ..., 0.        , 0.        ,\n",
       "        1.        ]])"
      ]
     },
     "execution_count": 32,
     "metadata": {},
     "output_type": "execute_result"
    }
   ],
   "source": [
    "similarity"
   ]
  },
  {
   "cell_type": "code",
   "execution_count": 33,
   "id": "c7523411-990b-48fc-92ed-58e27a65eeb9",
   "metadata": {},
   "outputs": [
    {
     "data": {
      "text/plain": [
       "<enumerate at 0x13df1fcf100>"
      ]
     },
     "execution_count": 33,
     "metadata": {},
     "output_type": "execute_result"
    }
   ],
   "source": [
    "enumerate(similarity[0])"
   ]
  },
  {
   "cell_type": "code",
   "execution_count": 34,
   "id": "4c148b19-6adb-4541-bd92-f5c5076d11ac",
   "metadata": {},
   "outputs": [],
   "source": [
    "def recommendation(title):\n",
    "    idx = df[df['job_title'] == title].index[0]\n",
    "    idx = df.index.get_loc(idx)\n",
    "    distances = sorted(list(enumerate(similarity[idx])),key = lambda x:x[1], reverse=False)[1:20]\n",
    "\n",
    "    jobs = []\n",
    "\n",
    "    for i in distances:\n",
    "        jobs.append(df.iloc[i[0]].Title)\n",
    "        return jobs"
   ]
  },
  {
   "cell_type": "code",
   "execution_count": 35,
   "id": "c4a3302b-99ac-4860-a02a-00698c9188b5",
   "metadata": {},
   "outputs": [
    {
     "data": {
      "text/plain": [
       "766615                                regist nurs rn aveanna\n",
       "158813                     locum physician obstetr gynecolog\n",
       "697436             technolog sale recruit busi develop manag\n",
       "294621          travel rn oncolog 186200week 23731031expplat\n",
       "654709     floor supervisor full time tommi hilfig la veg...\n",
       "                                 ...                        \n",
       "1316917                                       master teacher\n",
       "530197                                  famili law solicitor\n",
       "1224052     armi cybersecur strategi specialist secret clear\n",
       "81954                            manag threat model assessor\n",
       "1088132                       2nd shift custom servic repres\n",
       "Name: job_title, Length: 1000, dtype: object"
      ]
     },
     "execution_count": 35,
     "metadata": {},
     "output_type": "execute_result"
    }
   ],
   "source": [
    "df['job_title']"
   ]
  },
  {
   "cell_type": "code",
   "execution_count": 36,
   "id": "26a7dc78-5ec9-4889-8a65-cd57bb8cafd0",
   "metadata": {},
   "outputs": [],
   "source": [
    "import pickle \n",
    "pickle.dump(df,open('df.pkl','wb'))\n",
    "pickle.dump(similarity,open('similarity.pkl','wb'))"
   ]
  },
  {
   "cell_type": "code",
   "execution_count": null,
   "id": "b3e920af-95dd-4717-a8a8-b8f250b80988",
   "metadata": {},
   "outputs": [],
   "source": []
  }
 ],
 "metadata": {
  "kernelspec": {
   "display_name": "Python 3 (ipykernel)",
   "language": "python",
   "name": "python3"
  },
  "language_info": {
   "codemirror_mode": {
    "name": "ipython",
    "version": 3
   },
   "file_extension": ".py",
   "mimetype": "text/x-python",
   "name": "python",
   "nbconvert_exporter": "python",
   "pygments_lexer": "ipython3",
   "version": "3.11.9"
  }
 },
 "nbformat": 4,
 "nbformat_minor": 5
}
